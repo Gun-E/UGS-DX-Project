{
 "cells": [
  {
   "cell_type": "code",
   "id": "initial_id",
   "metadata": {
    "collapsed": true,
    "ExecuteTime": {
     "end_time": "2024-10-18T01:43:23.331403Z",
     "start_time": "2024-10-18T01:43:23.299344Z"
    }
   },
   "source": [
    "import pandas as pd\n",
    "\n",
    "df = pd.read_csv(\"data/data_cleaned.csv\")\n"
   ],
   "outputs": [],
   "execution_count": 1
  },
  {
   "metadata": {
    "ExecuteTime": {
     "end_time": "2024-10-18T01:43:41.874390Z",
     "start_time": "2024-10-18T01:43:41.865778Z"
    }
   },
   "cell_type": "code",
   "source": [
    "import re\n",
    "\n",
    "def clean_text(text):\n",
    "    # text가 NaN(결측치)일 경우 빈 문자열로 처리\n",
    "    if pd.isna(text):\n",
    "        return \"\"\n",
    "    text = str(text)\n",
    "    \n",
    "    # 한글과 공백을 제외한 모든 문자 제거\n",
    "    cleaned_text = re.sub(r'[^가-힣\\s]', '', text)\n",
    "    # 한 글자인 단어 제거\n",
    "    cleaned_text = re.sub(r'\\b[가-힣]\\b', '', cleaned_text)\n",
    "    # 다시 연속된 공백을 하나의 공백으로 변환\n",
    "    cleaned_text = re.sub(r'\\s+', ' ', cleaned_text)\n",
    "    # 앞뒤 공백 제거\n",
    "    return cleaned_text.strip()"
   ],
   "id": "5a576b8de7cdef64",
   "outputs": [],
   "execution_count": 2
  },
  {
   "metadata": {
    "ExecuteTime": {
     "end_time": "2024-10-18T01:43:42.854847Z",
     "start_time": "2024-10-18T01:43:42.731388Z"
    }
   },
   "cell_type": "code",
   "source": [
    "df.loc[:, 'Title'] = df['Title'].apply(clean_text)\n",
    "\n",
    "df = df[df['Title'] != \"\"]\n",
    "df = df.dropna(subset=['Title'])\n",
    "df"
   ],
   "id": "40f05dde0fcb587b",
   "outputs": [
    {
     "data": {
      "text/plain": [
       "                                                  Title\n",
       "0     예전에 가스 오븐만 사용해 봤는데 이오니 가스레인지 밑에 전기 광파 오븐이 설치해 ...\n",
       "1                                     안녕하세요 우리 가전 광파 오븐\n",
       "2     월에 캐나다로 예정입니다 집에 디오스 광파 오븐 있는데 이게 전자레인지나 오븐 에어...\n",
       "3     집에 에어 프라이어 오븐과 디오스 광파 오븐 전자레인지 회전함 아파트 옵션이 있는데...\n",
       "4     통합된 광파 오븐이나 큐커가 좋다는 분들이 있어서 헷갈려요 햇반 돌리거나 생선구이 ...\n",
       "...                                                 ...\n",
       "9979        광파 오븐 이건 조합원만 주나요 지인이 일반 분양 거로 계약했다는데 물어보네요\n",
       "9980  안녕하십니까 새로운 정보를 가지고 오는 전자 구미형 곡점 김경민 팀장입니다 오늘은 ...\n",
       "9981  매립된 광파 오븐 사용하고 계시나요 전자레인지 돌리면 원래 안에 없이 돌아가나요 보...\n",
       "9982  고민 고민하다 세탁실 선반에 광파 오븐 뒀는데 제가 키가 작아서 불편하기도 하고 혹...\n",
       "9983  주방 전자레인지 자리에 광파 오븐이 들어가요 문을 떼내고 집어 넣어야 할까요 떼어내...\n",
       "\n",
       "[9907 rows x 1 columns]"
      ],
      "text/html": [
       "<div>\n",
       "<style scoped>\n",
       "    .dataframe tbody tr th:only-of-type {\n",
       "        vertical-align: middle;\n",
       "    }\n",
       "\n",
       "    .dataframe tbody tr th {\n",
       "        vertical-align: top;\n",
       "    }\n",
       "\n",
       "    .dataframe thead th {\n",
       "        text-align: right;\n",
       "    }\n",
       "</style>\n",
       "<table border=\"1\" class=\"dataframe\">\n",
       "  <thead>\n",
       "    <tr style=\"text-align: right;\">\n",
       "      <th></th>\n",
       "      <th>Title</th>\n",
       "    </tr>\n",
       "  </thead>\n",
       "  <tbody>\n",
       "    <tr>\n",
       "      <th>0</th>\n",
       "      <td>예전에 가스 오븐만 사용해 봤는데 이오니 가스레인지 밑에 전기 광파 오븐이 설치해 ...</td>\n",
       "    </tr>\n",
       "    <tr>\n",
       "      <th>1</th>\n",
       "      <td>안녕하세요 우리 가전 광파 오븐</td>\n",
       "    </tr>\n",
       "    <tr>\n",
       "      <th>2</th>\n",
       "      <td>월에 캐나다로 예정입니다 집에 디오스 광파 오븐 있는데 이게 전자레인지나 오븐 에어...</td>\n",
       "    </tr>\n",
       "    <tr>\n",
       "      <th>3</th>\n",
       "      <td>집에 에어 프라이어 오븐과 디오스 광파 오븐 전자레인지 회전함 아파트 옵션이 있는데...</td>\n",
       "    </tr>\n",
       "    <tr>\n",
       "      <th>4</th>\n",
       "      <td>통합된 광파 오븐이나 큐커가 좋다는 분들이 있어서 헷갈려요 햇반 돌리거나 생선구이 ...</td>\n",
       "    </tr>\n",
       "    <tr>\n",
       "      <th>...</th>\n",
       "      <td>...</td>\n",
       "    </tr>\n",
       "    <tr>\n",
       "      <th>9979</th>\n",
       "      <td>광파 오븐 이건 조합원만 주나요 지인이 일반 분양 거로 계약했다는데 물어보네요</td>\n",
       "    </tr>\n",
       "    <tr>\n",
       "      <th>9980</th>\n",
       "      <td>안녕하십니까 새로운 정보를 가지고 오는 전자 구미형 곡점 김경민 팀장입니다 오늘은 ...</td>\n",
       "    </tr>\n",
       "    <tr>\n",
       "      <th>9981</th>\n",
       "      <td>매립된 광파 오븐 사용하고 계시나요 전자레인지 돌리면 원래 안에 없이 돌아가나요 보...</td>\n",
       "    </tr>\n",
       "    <tr>\n",
       "      <th>9982</th>\n",
       "      <td>고민 고민하다 세탁실 선반에 광파 오븐 뒀는데 제가 키가 작아서 불편하기도 하고 혹...</td>\n",
       "    </tr>\n",
       "    <tr>\n",
       "      <th>9983</th>\n",
       "      <td>주방 전자레인지 자리에 광파 오븐이 들어가요 문을 떼내고 집어 넣어야 할까요 떼어내...</td>\n",
       "    </tr>\n",
       "  </tbody>\n",
       "</table>\n",
       "<p>9907 rows × 1 columns</p>\n",
       "</div>"
      ]
     },
     "execution_count": 3,
     "metadata": {},
     "output_type": "execute_result"
    }
   ],
   "execution_count": 3
  },
  {
   "metadata": {
    "ExecuteTime": {
     "end_time": "2024-10-18T01:43:51.387275Z",
     "start_time": "2024-10-18T01:43:51.366261Z"
    }
   },
   "cell_type": "code",
   "source": "df.to_csv(\"data/data_minus_one.csv\", index=False)",
   "id": "f4379703ba7fe21f",
   "outputs": [],
   "execution_count": 4
  },
  {
   "metadata": {},
   "cell_type": "code",
   "outputs": [],
   "execution_count": null,
   "source": "",
   "id": "123ff79d419224f2"
  }
 ],
 "metadata": {
  "kernelspec": {
   "display_name": "Python 3",
   "language": "python",
   "name": "python3"
  },
  "language_info": {
   "codemirror_mode": {
    "name": "ipython",
    "version": 2
   },
   "file_extension": ".py",
   "mimetype": "text/x-python",
   "name": "python",
   "nbconvert_exporter": "python",
   "pygments_lexer": "ipython2",
   "version": "2.7.6"
  }
 },
 "nbformat": 4,
 "nbformat_minor": 5
}
