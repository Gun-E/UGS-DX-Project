{
 "cells": [
  {
   "cell_type": "code",
   "id": "initial_id",
   "metadata": {
    "collapsed": true,
    "ExecuteTime": {
     "end_time": "2024-10-21T07:48:49.284006Z",
     "start_time": "2024-10-21T07:48:49.234554Z"
    }
   },
   "source": [
    "import pandas as pd\n",
    "\n",
    "# CSV 파일 읽기\n",
    "df = pd.read_csv(\"data/원문.csv\")\n",
    "\n",
    "# 'title' 컬럼에서 '불편'이라는 단어가 포함된 행 필터링\n",
    "filtered_df = df[df['Title'].str.contains('불편', na=False)]\n",
    "\n",
    "# 결과를 CSV 파일로 저장\n",
    "filtered_df.to_csv(\"data/불편_result.csv\", index=False, encoding='utf-8-sig')\n"
   ],
   "outputs": [],
   "execution_count": 2
  },
  {
   "metadata": {},
   "cell_type": "code",
   "outputs": [],
   "execution_count": null,
   "source": "",
   "id": "91576450c7461601"
  }
 ],
 "metadata": {
  "kernelspec": {
   "display_name": "Python 3",
   "language": "python",
   "name": "python3"
  },
  "language_info": {
   "codemirror_mode": {
    "name": "ipython",
    "version": 2
   },
   "file_extension": ".py",
   "mimetype": "text/x-python",
   "name": "python",
   "nbconvert_exporter": "python",
   "pygments_lexer": "ipython2",
   "version": "2.7.6"
  }
 },
 "nbformat": 4,
 "nbformat_minor": 5
}
