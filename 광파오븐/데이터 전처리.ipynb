{
 "cells": [
  {
   "cell_type": "code",
   "id": "initial_id",
   "metadata": {
    "collapsed": true,
    "ExecuteTime": {
     "end_time": "2024-10-16T02:08:51.961347Z",
     "start_time": "2024-10-16T02:08:51.922027Z"
    }
   },
   "source": [
    "import pandas as pd\n",
    "\n",
    "df1 = pd.read_csv(\"data/naver_cafe_articles_final.csv\")\n",
    "df2 = pd.read_csv(\"data/naver_cafe_articles_final_new.csv\")\n",
    "df3 = pd.read_csv(\"data/naver_blog.csv\")\n"
   ],
   "outputs": [],
   "execution_count": 9
  },
  {
   "metadata": {
    "ExecuteTime": {
     "end_time": "2024-10-16T02:06:03.776600Z",
     "start_time": "2024-10-16T02:06:03.738472Z"
    }
   },
   "cell_type": "code",
   "source": [
    "df4 = pd.read_csv(\"data/광파오븐_공홈_리뷰.csv\")\n",
    "df4 = df4[['리뷰']].rename(columns={'리뷰': 'Title'})"
   ],
   "id": "b220e08e707b1f72",
   "outputs": [
    {
     "data": {
      "text/plain": [
       "                                                  Title\n",
       "0     광파오븐 디자인, 기능 다 너무 만족스럽습니당\\n다만 매장에서 봤을 땐 못 느꼈던 ...\n",
       "1     판매중인 광파오븐 중 기능(10가지), 디자인, 편의성을 고려 후 구매, 흰색을 선...\n",
       "2                                           요리가 너무 맛있어요\n",
       "3                               전자레인지만 쓰긴하는데 요리할때좋을꺼가타효\n",
       "4     에어프라이기를 구입하려했는데 기왕사는거 여러기능이 되는 광파오븐을 사기로해서 사용중...\n",
       "...                                                 ...\n",
       "2825  스팀요리가 되는 광파오븐이어서 구입하였습니다. 스팀세척 기능도 있어서 유용하게 사용...\n",
       "2826                                    디자인이이쁘고성능이우수하네요\n",
       "2827                                    편리하고 심미성도 좋습니다.\n",
       "2828  하나의제품으로 다양하게 이용하여\\n깔끔한 주방연출\\n핵가족인데 조금 작은 사이즈면 ...\n",
       "2829  제품 가격을 갑자기.많이 할인하여...화가 났지만...앞으로는 엘지 제품을 살 때 ...\n",
       "\n",
       "[2830 rows x 1 columns]"
      ],
      "text/html": [
       "<div>\n",
       "<style scoped>\n",
       "    .dataframe tbody tr th:only-of-type {\n",
       "        vertical-align: middle;\n",
       "    }\n",
       "\n",
       "    .dataframe tbody tr th {\n",
       "        vertical-align: top;\n",
       "    }\n",
       "\n",
       "    .dataframe thead th {\n",
       "        text-align: right;\n",
       "    }\n",
       "</style>\n",
       "<table border=\"1\" class=\"dataframe\">\n",
       "  <thead>\n",
       "    <tr style=\"text-align: right;\">\n",
       "      <th></th>\n",
       "      <th>Title</th>\n",
       "    </tr>\n",
       "  </thead>\n",
       "  <tbody>\n",
       "    <tr>\n",
       "      <th>0</th>\n",
       "      <td>광파오븐 디자인, 기능 다 너무 만족스럽습니당\\n다만 매장에서 봤을 땐 못 느꼈던 ...</td>\n",
       "    </tr>\n",
       "    <tr>\n",
       "      <th>1</th>\n",
       "      <td>판매중인 광파오븐 중 기능(10가지), 디자인, 편의성을 고려 후 구매, 흰색을 선...</td>\n",
       "    </tr>\n",
       "    <tr>\n",
       "      <th>2</th>\n",
       "      <td>요리가 너무 맛있어요</td>\n",
       "    </tr>\n",
       "    <tr>\n",
       "      <th>3</th>\n",
       "      <td>전자레인지만 쓰긴하는데 요리할때좋을꺼가타효</td>\n",
       "    </tr>\n",
       "    <tr>\n",
       "      <th>4</th>\n",
       "      <td>에어프라이기를 구입하려했는데 기왕사는거 여러기능이 되는 광파오븐을 사기로해서 사용중...</td>\n",
       "    </tr>\n",
       "    <tr>\n",
       "      <th>...</th>\n",
       "      <td>...</td>\n",
       "    </tr>\n",
       "    <tr>\n",
       "      <th>2825</th>\n",
       "      <td>스팀요리가 되는 광파오븐이어서 구입하였습니다. 스팀세척 기능도 있어서 유용하게 사용...</td>\n",
       "    </tr>\n",
       "    <tr>\n",
       "      <th>2826</th>\n",
       "      <td>디자인이이쁘고성능이우수하네요</td>\n",
       "    </tr>\n",
       "    <tr>\n",
       "      <th>2827</th>\n",
       "      <td>편리하고 심미성도 좋습니다.</td>\n",
       "    </tr>\n",
       "    <tr>\n",
       "      <th>2828</th>\n",
       "      <td>하나의제품으로 다양하게 이용하여\\n깔끔한 주방연출\\n핵가족인데 조금 작은 사이즈면 ...</td>\n",
       "    </tr>\n",
       "    <tr>\n",
       "      <th>2829</th>\n",
       "      <td>제품 가격을 갑자기.많이 할인하여...화가 났지만...앞으로는 엘지 제품을 살 때 ...</td>\n",
       "    </tr>\n",
       "  </tbody>\n",
       "</table>\n",
       "<p>2830 rows × 1 columns</p>\n",
       "</div>"
      ]
     },
     "execution_count": 3,
     "metadata": {},
     "output_type": "execute_result"
    }
   ],
   "execution_count": 3
  },
  {
   "metadata": {
    "ExecuteTime": {
     "end_time": "2024-10-16T02:07:29.327104Z",
     "start_time": "2024-10-16T02:07:29.314020Z"
    }
   },
   "cell_type": "code",
   "source": [
    "df5 = pd.read_csv(\"data/combined_youtube_comments.csv\")\n",
    "df5 = df5[['Review']].rename(columns={'Review': 'Title'})"
   ],
   "id": "abe13828363f652e",
   "outputs": [
    {
     "data": {
      "text/plain": [
       "                                                  Title\n",
       "0     광파오븐이  에어프라이어도 되구 전자레인지도 된다고 하니 더욱 솔깃한 제품인 것 같...\n",
       "1     이런건 딱 재튀김용도나 기름기가적은 식품위주로만 에어프라이기 사용이 좋음 \\n기름많...\n",
       "2     Seeing a convection microwave whose very purpo...\n",
       "3     우와신동님 오늘도 역시 정보전달력 대박귀에 쏙쏙 들어와요!!!신동댕동 매번 느끼지만...\n",
       "4     광파 오븐 저도 신동님처럼 정말 에어프라이어, 전자렌지 기능이 다 구현될지가 의심스...\n",
       "...                                                 ...\n",
       "1474                         ㅋㅋㅋㅋㅋㅋㅋㅋ 영상 감사합니다!!! 자취예정인\n",
       "1475                                    삼섬 큐커랑  비교햐주세요~\n",
       "1476              후라이팬에  굽는 생선보다  맛있을줄  알았는데.\\nㅠ  실망이네요\n",
       "1477                                  결국 스팀기능만 쓸만한제품이군요\n",
       "1478                                           온도 조절되는뎅\n",
       "\n",
       "[1479 rows x 1 columns]"
      ],
      "text/html": [
       "<div>\n",
       "<style scoped>\n",
       "    .dataframe tbody tr th:only-of-type {\n",
       "        vertical-align: middle;\n",
       "    }\n",
       "\n",
       "    .dataframe tbody tr th {\n",
       "        vertical-align: top;\n",
       "    }\n",
       "\n",
       "    .dataframe thead th {\n",
       "        text-align: right;\n",
       "    }\n",
       "</style>\n",
       "<table border=\"1\" class=\"dataframe\">\n",
       "  <thead>\n",
       "    <tr style=\"text-align: right;\">\n",
       "      <th></th>\n",
       "      <th>Title</th>\n",
       "    </tr>\n",
       "  </thead>\n",
       "  <tbody>\n",
       "    <tr>\n",
       "      <th>0</th>\n",
       "      <td>광파오븐이  에어프라이어도 되구 전자레인지도 된다고 하니 더욱 솔깃한 제품인 것 같...</td>\n",
       "    </tr>\n",
       "    <tr>\n",
       "      <th>1</th>\n",
       "      <td>이런건 딱 재튀김용도나 기름기가적은 식품위주로만 에어프라이기 사용이 좋음 \\n기름많...</td>\n",
       "    </tr>\n",
       "    <tr>\n",
       "      <th>2</th>\n",
       "      <td>Seeing a convection microwave whose very purpo...</td>\n",
       "    </tr>\n",
       "    <tr>\n",
       "      <th>3</th>\n",
       "      <td>우와신동님 오늘도 역시 정보전달력 대박귀에 쏙쏙 들어와요!!!신동댕동 매번 느끼지만...</td>\n",
       "    </tr>\n",
       "    <tr>\n",
       "      <th>4</th>\n",
       "      <td>광파 오븐 저도 신동님처럼 정말 에어프라이어, 전자렌지 기능이 다 구현될지가 의심스...</td>\n",
       "    </tr>\n",
       "    <tr>\n",
       "      <th>...</th>\n",
       "      <td>...</td>\n",
       "    </tr>\n",
       "    <tr>\n",
       "      <th>1474</th>\n",
       "      <td>ㅋㅋㅋㅋㅋㅋㅋㅋ 영상 감사합니다!!! 자취예정인</td>\n",
       "    </tr>\n",
       "    <tr>\n",
       "      <th>1475</th>\n",
       "      <td>삼섬 큐커랑  비교햐주세요~</td>\n",
       "    </tr>\n",
       "    <tr>\n",
       "      <th>1476</th>\n",
       "      <td>후라이팬에  굽는 생선보다  맛있을줄  알았는데.\\nㅠ  실망이네요</td>\n",
       "    </tr>\n",
       "    <tr>\n",
       "      <th>1477</th>\n",
       "      <td>결국 스팀기능만 쓸만한제품이군요</td>\n",
       "    </tr>\n",
       "    <tr>\n",
       "      <th>1478</th>\n",
       "      <td>온도 조절되는뎅</td>\n",
       "    </tr>\n",
       "  </tbody>\n",
       "</table>\n",
       "<p>1479 rows × 1 columns</p>\n",
       "</div>"
      ]
     },
     "execution_count": 4,
     "metadata": {},
     "output_type": "execute_result"
    }
   ],
   "execution_count": 4
  },
  {
   "metadata": {
    "ExecuteTime": {
     "end_time": "2024-10-16T02:09:46.201925Z",
     "start_time": "2024-10-16T02:09:46.194758Z"
    }
   },
   "cell_type": "code",
   "source": [
    "print(df1.shape)\n",
    "print(df2.shape)\n",
    "print(df3.shape)\n",
    "print(df4.shape)\n",
    "print(df5.shape)"
   ],
   "id": "edc095a378657172",
   "outputs": [
    {
     "name": "stdout",
     "output_type": "stream",
     "text": [
      "(1368, 1)\n",
      "(1200, 1)\n",
      "(2030, 1)\n",
      "(2830, 1)\n",
      "(1479, 1)\n"
     ]
    }
   ],
   "execution_count": 12
  },
  {
   "metadata": {
    "ExecuteTime": {
     "end_time": "2024-10-16T02:10:15.449981Z",
     "start_time": "2024-10-16T02:10:15.443577Z"
    }
   },
   "cell_type": "code",
   "source": [
    "df = pd.concat([df1, df2, df3, df4, df5], axis=0)\n",
    "df"
   ],
   "id": "3fba40378cc43009",
   "outputs": [
    {
     "data": {
      "text/plain": [
       "                                                  Title\n",
       "0     예전에 가스 오븐만 사용해봤는데 이사오니 가스레인지밑에 전기광파오븐이 설치되어있는데...\n",
       "1     안녕하세요 우리집 LG 가전 광파오븐 MLJ32ERS.CKOR 입니다. 일단 전자레...\n",
       "2     1월에 캐나다로 갈 예정입니다~ 집에 LG디오스 광파오븐 있는데 이게 전자레인지, ...\n",
       "3     집에 에어프라이어 오븐과 LG 디오스 광파오븐 전자레인지?(회전함, 아파트 옵션)이...\n",
       "4     통합된 광파오븐이나 큐커가 좋다는 분들이 있어서 헷갈려요ㅜㅜ 햇반 돌리거나 생선구이...\n",
       "...                                                 ...\n",
       "1474                         ㅋㅋㅋㅋㅋㅋㅋㅋ 영상 감사합니다!!! 자취예정인\n",
       "1475                                    삼섬 큐커랑  비교햐주세요~\n",
       "1476              후라이팬에  굽는 생선보다  맛있을줄  알았는데.\\nㅠ  실망이네요\n",
       "1477                                  결국 스팀기능만 쓸만한제품이군요\n",
       "1478                                           온도 조절되는뎅\n",
       "\n",
       "[8907 rows x 1 columns]"
      ],
      "text/html": [
       "<div>\n",
       "<style scoped>\n",
       "    .dataframe tbody tr th:only-of-type {\n",
       "        vertical-align: middle;\n",
       "    }\n",
       "\n",
       "    .dataframe tbody tr th {\n",
       "        vertical-align: top;\n",
       "    }\n",
       "\n",
       "    .dataframe thead th {\n",
       "        text-align: right;\n",
       "    }\n",
       "</style>\n",
       "<table border=\"1\" class=\"dataframe\">\n",
       "  <thead>\n",
       "    <tr style=\"text-align: right;\">\n",
       "      <th></th>\n",
       "      <th>Title</th>\n",
       "    </tr>\n",
       "  </thead>\n",
       "  <tbody>\n",
       "    <tr>\n",
       "      <th>0</th>\n",
       "      <td>예전에 가스 오븐만 사용해봤는데 이사오니 가스레인지밑에 전기광파오븐이 설치되어있는데...</td>\n",
       "    </tr>\n",
       "    <tr>\n",
       "      <th>1</th>\n",
       "      <td>안녕하세요 우리집 LG 가전 광파오븐 MLJ32ERS.CKOR 입니다. 일단 전자레...</td>\n",
       "    </tr>\n",
       "    <tr>\n",
       "      <th>2</th>\n",
       "      <td>1월에 캐나다로 갈 예정입니다~ 집에 LG디오스 광파오븐 있는데 이게 전자레인지, ...</td>\n",
       "    </tr>\n",
       "    <tr>\n",
       "      <th>3</th>\n",
       "      <td>집에 에어프라이어 오븐과 LG 디오스 광파오븐 전자레인지?(회전함, 아파트 옵션)이...</td>\n",
       "    </tr>\n",
       "    <tr>\n",
       "      <th>4</th>\n",
       "      <td>통합된 광파오븐이나 큐커가 좋다는 분들이 있어서 헷갈려요ㅜㅜ 햇반 돌리거나 생선구이...</td>\n",
       "    </tr>\n",
       "    <tr>\n",
       "      <th>...</th>\n",
       "      <td>...</td>\n",
       "    </tr>\n",
       "    <tr>\n",
       "      <th>1474</th>\n",
       "      <td>ㅋㅋㅋㅋㅋㅋㅋㅋ 영상 감사합니다!!! 자취예정인</td>\n",
       "    </tr>\n",
       "    <tr>\n",
       "      <th>1475</th>\n",
       "      <td>삼섬 큐커랑  비교햐주세요~</td>\n",
       "    </tr>\n",
       "    <tr>\n",
       "      <th>1476</th>\n",
       "      <td>후라이팬에  굽는 생선보다  맛있을줄  알았는데.\\nㅠ  실망이네요</td>\n",
       "    </tr>\n",
       "    <tr>\n",
       "      <th>1477</th>\n",
       "      <td>결국 스팀기능만 쓸만한제품이군요</td>\n",
       "    </tr>\n",
       "    <tr>\n",
       "      <th>1478</th>\n",
       "      <td>온도 조절되는뎅</td>\n",
       "    </tr>\n",
       "  </tbody>\n",
       "</table>\n",
       "<p>8907 rows × 1 columns</p>\n",
       "</div>"
      ]
     },
     "execution_count": 13,
     "metadata": {},
     "output_type": "execute_result"
    }
   ],
   "execution_count": 13
  },
  {
   "metadata": {
    "ExecuteTime": {
     "end_time": "2024-10-16T05:33:34.835727Z",
     "start_time": "2024-10-16T05:33:34.672001Z"
    }
   },
   "cell_type": "code",
   "source": [
    "df_cleaned = df.drop_duplicates()\n",
    "df_cleaned.to_csv(\"data/원문.csv\", index=False)\n",
    "df_cleaned"
   ],
   "id": "d8b856a78432dcd7",
   "outputs": [
    {
     "data": {
      "text/plain": [
       "                                                  Title\n",
       "0     예전에 가스 오븐만 사용해봤는데 이사오니 가스레인지밑에 전기광파오븐이 설치되어있는데...\n",
       "1     안녕하세요 우리집 LG 가전 광파오븐 MLJ32ERS.CKOR 입니다. 일단 전자레...\n",
       "2     1월에 캐나다로 갈 예정입니다~ 집에 LG디오스 광파오븐 있는데 이게 전자레인지, ...\n",
       "3     집에 에어프라이어 오븐과 LG 디오스 광파오븐 전자레인지?(회전함, 아파트 옵션)이...\n",
       "4     통합된 광파오븐이나 큐커가 좋다는 분들이 있어서 헷갈려요ㅜㅜ 햇반 돌리거나 생선구이...\n",
       "...                                                 ...\n",
       "1474                         ㅋㅋㅋㅋㅋㅋㅋㅋ 영상 감사합니다!!! 자취예정인\n",
       "1475                                    삼섬 큐커랑  비교햐주세요~\n",
       "1476              후라이팬에  굽는 생선보다  맛있을줄  알았는데.\\nㅠ  실망이네요\n",
       "1477                                  결국 스팀기능만 쓸만한제품이군요\n",
       "1478                                           온도 조절되는뎅\n",
       "\n",
       "[8261 rows x 1 columns]"
      ],
      "text/html": [
       "<div>\n",
       "<style scoped>\n",
       "    .dataframe tbody tr th:only-of-type {\n",
       "        vertical-align: middle;\n",
       "    }\n",
       "\n",
       "    .dataframe tbody tr th {\n",
       "        vertical-align: top;\n",
       "    }\n",
       "\n",
       "    .dataframe thead th {\n",
       "        text-align: right;\n",
       "    }\n",
       "</style>\n",
       "<table border=\"1\" class=\"dataframe\">\n",
       "  <thead>\n",
       "    <tr style=\"text-align: right;\">\n",
       "      <th></th>\n",
       "      <th>Title</th>\n",
       "    </tr>\n",
       "  </thead>\n",
       "  <tbody>\n",
       "    <tr>\n",
       "      <th>0</th>\n",
       "      <td>예전에 가스 오븐만 사용해봤는데 이사오니 가스레인지밑에 전기광파오븐이 설치되어있는데...</td>\n",
       "    </tr>\n",
       "    <tr>\n",
       "      <th>1</th>\n",
       "      <td>안녕하세요 우리집 LG 가전 광파오븐 MLJ32ERS.CKOR 입니다. 일단 전자레...</td>\n",
       "    </tr>\n",
       "    <tr>\n",
       "      <th>2</th>\n",
       "      <td>1월에 캐나다로 갈 예정입니다~ 집에 LG디오스 광파오븐 있는데 이게 전자레인지, ...</td>\n",
       "    </tr>\n",
       "    <tr>\n",
       "      <th>3</th>\n",
       "      <td>집에 에어프라이어 오븐과 LG 디오스 광파오븐 전자레인지?(회전함, 아파트 옵션)이...</td>\n",
       "    </tr>\n",
       "    <tr>\n",
       "      <th>4</th>\n",
       "      <td>통합된 광파오븐이나 큐커가 좋다는 분들이 있어서 헷갈려요ㅜㅜ 햇반 돌리거나 생선구이...</td>\n",
       "    </tr>\n",
       "    <tr>\n",
       "      <th>...</th>\n",
       "      <td>...</td>\n",
       "    </tr>\n",
       "    <tr>\n",
       "      <th>1474</th>\n",
       "      <td>ㅋㅋㅋㅋㅋㅋㅋㅋ 영상 감사합니다!!! 자취예정인</td>\n",
       "    </tr>\n",
       "    <tr>\n",
       "      <th>1475</th>\n",
       "      <td>삼섬 큐커랑  비교햐주세요~</td>\n",
       "    </tr>\n",
       "    <tr>\n",
       "      <th>1476</th>\n",
       "      <td>후라이팬에  굽는 생선보다  맛있을줄  알았는데.\\nㅠ  실망이네요</td>\n",
       "    </tr>\n",
       "    <tr>\n",
       "      <th>1477</th>\n",
       "      <td>결국 스팀기능만 쓸만한제품이군요</td>\n",
       "    </tr>\n",
       "    <tr>\n",
       "      <th>1478</th>\n",
       "      <td>온도 조절되는뎅</td>\n",
       "    </tr>\n",
       "  </tbody>\n",
       "</table>\n",
       "<p>8261 rows × 1 columns</p>\n",
       "</div>"
      ]
     },
     "execution_count": 32,
     "metadata": {},
     "output_type": "execute_result"
    }
   ],
   "execution_count": 32
  },
  {
   "metadata": {
    "ExecuteTime": {
     "end_time": "2024-10-16T02:17:08.561110Z",
     "start_time": "2024-10-16T02:17:08.558148Z"
    }
   },
   "cell_type": "code",
   "source": [
    "import re\n",
    "\n",
    "def clean_text(text):\n",
    "    # text가 NaN(결측치)일 경우 빈 문자열로 처리\n",
    "    if pd.isna(text):\n",
    "        return \"\"\n",
    "    text = str(text)\n",
    "    \n",
    "    # 한글과 공백을 제외한 모든 문자 제거\n",
    "    cleaned_text = re.sub(r'[^가-힣\\s]', '', text)\n",
    "    # 한 글자인 단어 제거\n",
    "    cleaned_text = re.sub(r'\\b[가-힣]\\b', '', cleaned_text)\n",
    "    # 다시 연속된 공백을 하나의 공백으로 변환\n",
    "    cleaned_text = re.sub(r'\\s+', ' ', cleaned_text)\n",
    "    # 앞뒤 공백 제거\n",
    "    return cleaned_text.strip()"
   ],
   "id": "377d63aa0faf7b4c",
   "outputs": [],
   "execution_count": 29
  },
  {
   "metadata": {
    "ExecuteTime": {
     "end_time": "2024-10-16T02:17:12.087243Z",
     "start_time": "2024-10-16T02:17:12.016946Z"
    }
   },
   "cell_type": "code",
   "source": [
    "df_cleaned.loc[:, 'Title'] = df_cleaned['Title'].apply(clean_text)\n",
    "\n",
    "df_cleaned = df_cleaned[df_cleaned['Title'] != \"\"]\n",
    "df_cleaned = df_cleaned.dropna(subset=['Title'])\n",
    "df_cleaned"
   ],
   "id": "e710b3ae7d870d14",
   "outputs": [
    {
     "data": {
      "text/plain": [
       "                                                  Title\n",
       "0     예전에 가스 오븐만 사용해봤는데 이사오니 가스레인지밑에 전기광파오븐이 설치되어있는데...\n",
       "1     안녕하세요 우리집 가전 광파오븐 입니다 일단 전자레인지를 사려고 찾아보는데 주위에서...\n",
       "2     월에 캐나다로 예정입니다 집에 디오스 광파오븐 있는데 이게 전자레인지 오븐 에어프라...\n",
       "3     집에 에어프라이어 오븐과 디오스 광파오븐 전자레인지회전함 아파트 옵션이 있는데 에어...\n",
       "4     통합된 광파오븐이나 큐커가 좋다는 분들이 있어서 헷갈려요 햇반 돌리거나 생선구이 고...\n",
       "...                                                 ...\n",
       "1474                                     영상 감사합니다 자취예정인\n",
       "1475                                      삼섬 큐커랑 비교햐주세요\n",
       "1476                      후라이팬에 굽는 생선보다 맛있을줄 알았는데 실망이네요\n",
       "1477                                  결국 스팀기능만 쓸만한제품이군요\n",
       "1478                                           온도 조절되는뎅\n",
       "\n",
       "[7946 rows x 1 columns]"
      ],
      "text/html": [
       "<div>\n",
       "<style scoped>\n",
       "    .dataframe tbody tr th:only-of-type {\n",
       "        vertical-align: middle;\n",
       "    }\n",
       "\n",
       "    .dataframe tbody tr th {\n",
       "        vertical-align: top;\n",
       "    }\n",
       "\n",
       "    .dataframe thead th {\n",
       "        text-align: right;\n",
       "    }\n",
       "</style>\n",
       "<table border=\"1\" class=\"dataframe\">\n",
       "  <thead>\n",
       "    <tr style=\"text-align: right;\">\n",
       "      <th></th>\n",
       "      <th>Title</th>\n",
       "    </tr>\n",
       "  </thead>\n",
       "  <tbody>\n",
       "    <tr>\n",
       "      <th>0</th>\n",
       "      <td>예전에 가스 오븐만 사용해봤는데 이사오니 가스레인지밑에 전기광파오븐이 설치되어있는데...</td>\n",
       "    </tr>\n",
       "    <tr>\n",
       "      <th>1</th>\n",
       "      <td>안녕하세요 우리집 가전 광파오븐 입니다 일단 전자레인지를 사려고 찾아보는데 주위에서...</td>\n",
       "    </tr>\n",
       "    <tr>\n",
       "      <th>2</th>\n",
       "      <td>월에 캐나다로 예정입니다 집에 디오스 광파오븐 있는데 이게 전자레인지 오븐 에어프라...</td>\n",
       "    </tr>\n",
       "    <tr>\n",
       "      <th>3</th>\n",
       "      <td>집에 에어프라이어 오븐과 디오스 광파오븐 전자레인지회전함 아파트 옵션이 있는데 에어...</td>\n",
       "    </tr>\n",
       "    <tr>\n",
       "      <th>4</th>\n",
       "      <td>통합된 광파오븐이나 큐커가 좋다는 분들이 있어서 헷갈려요 햇반 돌리거나 생선구이 고...</td>\n",
       "    </tr>\n",
       "    <tr>\n",
       "      <th>...</th>\n",
       "      <td>...</td>\n",
       "    </tr>\n",
       "    <tr>\n",
       "      <th>1474</th>\n",
       "      <td>영상 감사합니다 자취예정인</td>\n",
       "    </tr>\n",
       "    <tr>\n",
       "      <th>1475</th>\n",
       "      <td>삼섬 큐커랑 비교햐주세요</td>\n",
       "    </tr>\n",
       "    <tr>\n",
       "      <th>1476</th>\n",
       "      <td>후라이팬에 굽는 생선보다 맛있을줄 알았는데 실망이네요</td>\n",
       "    </tr>\n",
       "    <tr>\n",
       "      <th>1477</th>\n",
       "      <td>결국 스팀기능만 쓸만한제품이군요</td>\n",
       "    </tr>\n",
       "    <tr>\n",
       "      <th>1478</th>\n",
       "      <td>온도 조절되는뎅</td>\n",
       "    </tr>\n",
       "  </tbody>\n",
       "</table>\n",
       "<p>7946 rows × 1 columns</p>\n",
       "</div>"
      ]
     },
     "execution_count": 30,
     "metadata": {},
     "output_type": "execute_result"
    }
   ],
   "execution_count": 30
  },
  {
   "metadata": {
    "ExecuteTime": {
     "end_time": "2024-10-16T02:18:38.122138Z",
     "start_time": "2024-10-16T02:18:38.096888Z"
    }
   },
   "cell_type": "code",
   "source": "df_cleaned.to_csv(\"data/data_cleaned.csv\", index=False)",
   "id": "43c117b0250852ce",
   "outputs": [],
   "execution_count": 31
  },
  {
   "metadata": {},
   "cell_type": "code",
   "outputs": [],
   "execution_count": null,
   "source": "",
   "id": "15e725003ab91964"
  }
 ],
 "metadata": {
  "kernelspec": {
   "display_name": "Python 3",
   "language": "python",
   "name": "python3"
  },
  "language_info": {
   "codemirror_mode": {
    "name": "ipython",
    "version": 2
   },
   "file_extension": ".py",
   "mimetype": "text/x-python",
   "name": "python",
   "nbconvert_exporter": "python",
   "pygments_lexer": "ipython2",
   "version": "2.7.6"
  }
 },
 "nbformat": 4,
 "nbformat_minor": 5
}
