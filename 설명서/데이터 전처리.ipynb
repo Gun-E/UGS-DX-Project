{
 "cells": [
  {
   "cell_type": "code",
   "id": "initial_id",
   "metadata": {
    "collapsed": true,
    "ExecuteTime": {
     "end_time": "2024-10-08T03:18:29.518739Z",
     "start_time": "2024-10-08T03:18:29.484566Z"
    }
   },
   "source": [
    "import pandas as pd\n",
    "df = pd.read_csv(\"data/naver_cafe_articles_final.csv\")\n",
    "df"
   ],
   "outputs": [
    {
     "data": {
      "text/plain": [
       "                                                  Title\n",
       "0     명절에 아이가 아빠따라 대형마트에가서 사왔는데 띠옹~ 조립설명서가??? 어딨나요??...\n",
       "1     릴오고 사진만 찍고 보관하다가 오늘 설명서보니 ㅠㅠ 한글사용 설명서 구할때 있을까요...\n",
       "2     어쩐지 외장을 색깔이 어둡다 했습니다!!!! 금요일 부터 다시 작업해야되는 부분 아...\n",
       "3                       설명서 잘 안보시는 분들을 위해 참고하시라고 올립니다^^\n",
       "4     오늘은 2024 k5 설명서에 대해 알아보는 시간을 가져보도록 하겠습니다. 차량에 ...\n",
       "...                                                 ...\n",
       "3295  2020년7윌식 리코 차량 취급설명서 구할곳이 없을까요? 쌍용차 고객센터에 전화.....\n",
       "3296  댓글로는 파일업이 안되서 올려요 설명서 상에는 상시전원이나 ACC가 아니라 녹화시간...\n",
       "3297  2023년 아이오닉6 취급설명서입니다. 현대차에서 다운로드한 것입니다. 첨부파일 2...\n",
       "3298  설명서 전부 찍어주실 천사 있으신가요~~~!! 중간에 이사 온 거라 설명서가 없네요...\n",
       "3299  유모차는 처음이라 진짜 버버벅 했는데 이제는 잘하지만 ㅎ설명서 다시보기, 공유합니다...\n",
       "\n",
       "[3300 rows x 1 columns]"
      ],
      "text/html": [
       "<div>\n",
       "<style scoped>\n",
       "    .dataframe tbody tr th:only-of-type {\n",
       "        vertical-align: middle;\n",
       "    }\n",
       "\n",
       "    .dataframe tbody tr th {\n",
       "        vertical-align: top;\n",
       "    }\n",
       "\n",
       "    .dataframe thead th {\n",
       "        text-align: right;\n",
       "    }\n",
       "</style>\n",
       "<table border=\"1\" class=\"dataframe\">\n",
       "  <thead>\n",
       "    <tr style=\"text-align: right;\">\n",
       "      <th></th>\n",
       "      <th>Title</th>\n",
       "    </tr>\n",
       "  </thead>\n",
       "  <tbody>\n",
       "    <tr>\n",
       "      <th>0</th>\n",
       "      <td>명절에 아이가 아빠따라 대형마트에가서 사왔는데 띠옹~ 조립설명서가??? 어딨나요??...</td>\n",
       "    </tr>\n",
       "    <tr>\n",
       "      <th>1</th>\n",
       "      <td>릴오고 사진만 찍고 보관하다가 오늘 설명서보니 ㅠㅠ 한글사용 설명서 구할때 있을까요...</td>\n",
       "    </tr>\n",
       "    <tr>\n",
       "      <th>2</th>\n",
       "      <td>어쩐지 외장을 색깔이 어둡다 했습니다!!!! 금요일 부터 다시 작업해야되는 부분 아...</td>\n",
       "    </tr>\n",
       "    <tr>\n",
       "      <th>3</th>\n",
       "      <td>설명서 잘 안보시는 분들을 위해 참고하시라고 올립니다^^</td>\n",
       "    </tr>\n",
       "    <tr>\n",
       "      <th>4</th>\n",
       "      <td>오늘은 2024 k5 설명서에 대해 알아보는 시간을 가져보도록 하겠습니다. 차량에 ...</td>\n",
       "    </tr>\n",
       "    <tr>\n",
       "      <th>...</th>\n",
       "      <td>...</td>\n",
       "    </tr>\n",
       "    <tr>\n",
       "      <th>3295</th>\n",
       "      <td>2020년7윌식 리코 차량 취급설명서 구할곳이 없을까요? 쌍용차 고객센터에 전화.....</td>\n",
       "    </tr>\n",
       "    <tr>\n",
       "      <th>3296</th>\n",
       "      <td>댓글로는 파일업이 안되서 올려요 설명서 상에는 상시전원이나 ACC가 아니라 녹화시간...</td>\n",
       "    </tr>\n",
       "    <tr>\n",
       "      <th>3297</th>\n",
       "      <td>2023년 아이오닉6 취급설명서입니다. 현대차에서 다운로드한 것입니다. 첨부파일 2...</td>\n",
       "    </tr>\n",
       "    <tr>\n",
       "      <th>3298</th>\n",
       "      <td>설명서 전부 찍어주실 천사 있으신가요~~~!! 중간에 이사 온 거라 설명서가 없네요...</td>\n",
       "    </tr>\n",
       "    <tr>\n",
       "      <th>3299</th>\n",
       "      <td>유모차는 처음이라 진짜 버버벅 했는데 이제는 잘하지만 ㅎ설명서 다시보기, 공유합니다...</td>\n",
       "    </tr>\n",
       "  </tbody>\n",
       "</table>\n",
       "<p>3300 rows × 1 columns</p>\n",
       "</div>"
      ]
     },
     "execution_count": 21,
     "metadata": {},
     "output_type": "execute_result"
    }
   ],
   "execution_count": 21
  },
  {
   "metadata": {
    "ExecuteTime": {
     "end_time": "2024-10-08T03:18:30.585030Z",
     "start_time": "2024-10-08T03:18:30.576495Z"
    }
   },
   "cell_type": "code",
   "source": [
    "df_cleaned = df.drop_duplicates()\n",
    "df_cleaned"
   ],
   "id": "d8b856a78432dcd7",
   "outputs": [
    {
     "data": {
      "text/plain": [
       "                                                  Title\n",
       "0     명절에 아이가 아빠따라 대형마트에가서 사왔는데 띠옹~ 조립설명서가??? 어딨나요??...\n",
       "1     릴오고 사진만 찍고 보관하다가 오늘 설명서보니 ㅠㅠ 한글사용 설명서 구할때 있을까요...\n",
       "2     어쩐지 외장을 색깔이 어둡다 했습니다!!!! 금요일 부터 다시 작업해야되는 부분 아...\n",
       "3                       설명서 잘 안보시는 분들을 위해 참고하시라고 올립니다^^\n",
       "4     오늘은 2024 k5 설명서에 대해 알아보는 시간을 가져보도록 하겠습니다. 차량에 ...\n",
       "...                                                 ...\n",
       "1195  2020년7윌식 리코 차량 취급설명서 구할곳이 없을까요? 쌍용차 고객센터에 전화.....\n",
       "1196  댓글로는 파일업이 안되서 올려요 설명서 상에는 상시전원이나 ACC가 아니라 녹화시간...\n",
       "1197  2023년 아이오닉6 취급설명서입니다. 현대차에서 다운로드한 것입니다. 첨부파일 2...\n",
       "1198  설명서 전부 찍어주실 천사 있으신가요~~~!! 중간에 이사 온 거라 설명서가 없네요...\n",
       "1199  유모차는 처음이라 진짜 버버벅 했는데 이제는 잘하지만 ㅎ설명서 다시보기, 공유합니다...\n",
       "\n",
       "[1192 rows x 1 columns]"
      ],
      "text/html": [
       "<div>\n",
       "<style scoped>\n",
       "    .dataframe tbody tr th:only-of-type {\n",
       "        vertical-align: middle;\n",
       "    }\n",
       "\n",
       "    .dataframe tbody tr th {\n",
       "        vertical-align: top;\n",
       "    }\n",
       "\n",
       "    .dataframe thead th {\n",
       "        text-align: right;\n",
       "    }\n",
       "</style>\n",
       "<table border=\"1\" class=\"dataframe\">\n",
       "  <thead>\n",
       "    <tr style=\"text-align: right;\">\n",
       "      <th></th>\n",
       "      <th>Title</th>\n",
       "    </tr>\n",
       "  </thead>\n",
       "  <tbody>\n",
       "    <tr>\n",
       "      <th>0</th>\n",
       "      <td>명절에 아이가 아빠따라 대형마트에가서 사왔는데 띠옹~ 조립설명서가??? 어딨나요??...</td>\n",
       "    </tr>\n",
       "    <tr>\n",
       "      <th>1</th>\n",
       "      <td>릴오고 사진만 찍고 보관하다가 오늘 설명서보니 ㅠㅠ 한글사용 설명서 구할때 있을까요...</td>\n",
       "    </tr>\n",
       "    <tr>\n",
       "      <th>2</th>\n",
       "      <td>어쩐지 외장을 색깔이 어둡다 했습니다!!!! 금요일 부터 다시 작업해야되는 부분 아...</td>\n",
       "    </tr>\n",
       "    <tr>\n",
       "      <th>3</th>\n",
       "      <td>설명서 잘 안보시는 분들을 위해 참고하시라고 올립니다^^</td>\n",
       "    </tr>\n",
       "    <tr>\n",
       "      <th>4</th>\n",
       "      <td>오늘은 2024 k5 설명서에 대해 알아보는 시간을 가져보도록 하겠습니다. 차량에 ...</td>\n",
       "    </tr>\n",
       "    <tr>\n",
       "      <th>...</th>\n",
       "      <td>...</td>\n",
       "    </tr>\n",
       "    <tr>\n",
       "      <th>1195</th>\n",
       "      <td>2020년7윌식 리코 차량 취급설명서 구할곳이 없을까요? 쌍용차 고객센터에 전화.....</td>\n",
       "    </tr>\n",
       "    <tr>\n",
       "      <th>1196</th>\n",
       "      <td>댓글로는 파일업이 안되서 올려요 설명서 상에는 상시전원이나 ACC가 아니라 녹화시간...</td>\n",
       "    </tr>\n",
       "    <tr>\n",
       "      <th>1197</th>\n",
       "      <td>2023년 아이오닉6 취급설명서입니다. 현대차에서 다운로드한 것입니다. 첨부파일 2...</td>\n",
       "    </tr>\n",
       "    <tr>\n",
       "      <th>1198</th>\n",
       "      <td>설명서 전부 찍어주실 천사 있으신가요~~~!! 중간에 이사 온 거라 설명서가 없네요...</td>\n",
       "    </tr>\n",
       "    <tr>\n",
       "      <th>1199</th>\n",
       "      <td>유모차는 처음이라 진짜 버버벅 했는데 이제는 잘하지만 ㅎ설명서 다시보기, 공유합니다...</td>\n",
       "    </tr>\n",
       "  </tbody>\n",
       "</table>\n",
       "<p>1192 rows × 1 columns</p>\n",
       "</div>"
      ]
     },
     "execution_count": 22,
     "metadata": {},
     "output_type": "execute_result"
    }
   ],
   "execution_count": 22
  },
  {
   "metadata": {
    "ExecuteTime": {
     "end_time": "2024-10-08T03:18:47.054594Z",
     "start_time": "2024-10-08T03:18:47.051330Z"
    }
   },
   "cell_type": "code",
   "source": [
    "import re\n",
    "def clean_text(text):\n",
    "    # 한글과 공백을 제외한 모든 문자 제거\n",
    "    cleaned_text = re.sub(r'[^가-힣\\s]', '', text)\n",
    "    # 한 글자인 단어 제거\n",
    "    cleaned_text = re.sub(r'\\b[가-힣]\\b', '', cleaned_text)\n",
    "    # 다시 연속된 공백을 하나의 공백으로 변환\n",
    "    cleaned_text = re.sub(r'\\s+', ' ', cleaned_text)\n",
    "    # 앞뒤 공백 제거\n",
    "    return cleaned_text.strip()"
   ],
   "id": "377d63aa0faf7b4c",
   "outputs": [],
   "execution_count": 24
  },
  {
   "metadata": {
    "ExecuteTime": {
     "end_time": "2024-10-08T03:18:47.476601Z",
     "start_time": "2024-10-08T03:18:47.457221Z"
    }
   },
   "cell_type": "code",
   "source": [
    "df_cleaned.loc[:, 'Title'] = df_cleaned['Title'].apply(clean_text)\n",
    "df_cleaned"
   ],
   "id": "e710b3ae7d870d14",
   "outputs": [
    {
     "data": {
      "text/plain": [
       "                                                  Title\n",
       "0     명절에 아이가 아빠따라 대형마트에가서 사왔는데 띠옹 조립설명서가 어딨나요 조립이라 ...\n",
       "1     릴오고 사진만 찍고 보관하다가 오늘 설명서보니 한글사용 설명서 구할때 있을까요 이래...\n",
       "2     어쩐지 외장을 색깔이 어둡다 했습니다 금요일 부터 다시 작업해야되는 부분 아주 나이...\n",
       "3                           설명서 안보시는 분들을 위해 참고하시라고 올립니다\n",
       "4     오늘은 설명서에 대해 알아보는 시간을 가져보도록 하겠습니다 차량에 대한 설명서 렌트...\n",
       "...                                                 ...\n",
       "1195  년윌식 리코 차량 취급설명서 구할곳이 없을까요 쌍용차 고객센터에 전화 불편하네요 회...\n",
       "1196  댓글로는 파일업이 안되서 올려요 설명서 상에는 상시전원이나 아니라 녹화시간 설정인가...\n",
       "1197  아이오닉 취급설명서입니다 현대차에서 다운로드한 것입니다 첨부파일 아이오닉취급설명서 ...\n",
       "1198  설명서 전부 찍어주실 천사 있으신가요 중간에 이사 거라 설명서가 없네요 오븐 기능도...\n",
       "1199  유모차는 처음이라 진짜 버버벅 했는데 이제는 잘하지만 설명서 다시보기 공유합니다 공...\n",
       "\n",
       "[1192 rows x 1 columns]"
      ],
      "text/html": [
       "<div>\n",
       "<style scoped>\n",
       "    .dataframe tbody tr th:only-of-type {\n",
       "        vertical-align: middle;\n",
       "    }\n",
       "\n",
       "    .dataframe tbody tr th {\n",
       "        vertical-align: top;\n",
       "    }\n",
       "\n",
       "    .dataframe thead th {\n",
       "        text-align: right;\n",
       "    }\n",
       "</style>\n",
       "<table border=\"1\" class=\"dataframe\">\n",
       "  <thead>\n",
       "    <tr style=\"text-align: right;\">\n",
       "      <th></th>\n",
       "      <th>Title</th>\n",
       "    </tr>\n",
       "  </thead>\n",
       "  <tbody>\n",
       "    <tr>\n",
       "      <th>0</th>\n",
       "      <td>명절에 아이가 아빠따라 대형마트에가서 사왔는데 띠옹 조립설명서가 어딨나요 조립이라 ...</td>\n",
       "    </tr>\n",
       "    <tr>\n",
       "      <th>1</th>\n",
       "      <td>릴오고 사진만 찍고 보관하다가 오늘 설명서보니 한글사용 설명서 구할때 있을까요 이래...</td>\n",
       "    </tr>\n",
       "    <tr>\n",
       "      <th>2</th>\n",
       "      <td>어쩐지 외장을 색깔이 어둡다 했습니다 금요일 부터 다시 작업해야되는 부분 아주 나이...</td>\n",
       "    </tr>\n",
       "    <tr>\n",
       "      <th>3</th>\n",
       "      <td>설명서 안보시는 분들을 위해 참고하시라고 올립니다</td>\n",
       "    </tr>\n",
       "    <tr>\n",
       "      <th>4</th>\n",
       "      <td>오늘은 설명서에 대해 알아보는 시간을 가져보도록 하겠습니다 차량에 대한 설명서 렌트...</td>\n",
       "    </tr>\n",
       "    <tr>\n",
       "      <th>...</th>\n",
       "      <td>...</td>\n",
       "    </tr>\n",
       "    <tr>\n",
       "      <th>1195</th>\n",
       "      <td>년윌식 리코 차량 취급설명서 구할곳이 없을까요 쌍용차 고객센터에 전화 불편하네요 회...</td>\n",
       "    </tr>\n",
       "    <tr>\n",
       "      <th>1196</th>\n",
       "      <td>댓글로는 파일업이 안되서 올려요 설명서 상에는 상시전원이나 아니라 녹화시간 설정인가...</td>\n",
       "    </tr>\n",
       "    <tr>\n",
       "      <th>1197</th>\n",
       "      <td>아이오닉 취급설명서입니다 현대차에서 다운로드한 것입니다 첨부파일 아이오닉취급설명서 ...</td>\n",
       "    </tr>\n",
       "    <tr>\n",
       "      <th>1198</th>\n",
       "      <td>설명서 전부 찍어주실 천사 있으신가요 중간에 이사 거라 설명서가 없네요 오븐 기능도...</td>\n",
       "    </tr>\n",
       "    <tr>\n",
       "      <th>1199</th>\n",
       "      <td>유모차는 처음이라 진짜 버버벅 했는데 이제는 잘하지만 설명서 다시보기 공유합니다 공...</td>\n",
       "    </tr>\n",
       "  </tbody>\n",
       "</table>\n",
       "<p>1192 rows × 1 columns</p>\n",
       "</div>"
      ]
     },
     "execution_count": 25,
     "metadata": {},
     "output_type": "execute_result"
    }
   ],
   "execution_count": 25
  },
  {
   "metadata": {
    "ExecuteTime": {
     "end_time": "2024-10-08T03:23:22.594702Z",
     "start_time": "2024-10-08T03:23:22.580462Z"
    }
   },
   "cell_type": "code",
   "source": "df_cleaned.to_csv(\"data/naver_cafe_articles_cleaned.csv\", index=False)",
   "id": "43c117b0250852ce",
   "outputs": [],
   "execution_count": 28
  },
  {
   "metadata": {},
   "cell_type": "code",
   "outputs": [],
   "execution_count": null,
   "source": "",
   "id": "15e725003ab91964"
  }
 ],
 "metadata": {
  "kernelspec": {
   "display_name": "Python 3",
   "language": "python",
   "name": "python3"
  },
  "language_info": {
   "codemirror_mode": {
    "name": "ipython",
    "version": 2
   },
   "file_extension": ".py",
   "mimetype": "text/x-python",
   "name": "python",
   "nbconvert_exporter": "python",
   "pygments_lexer": "ipython2",
   "version": "2.7.6"
  }
 },
 "nbformat": 4,
 "nbformat_minor": 5
}
